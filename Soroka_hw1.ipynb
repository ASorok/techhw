{
 "cells": [
  {
   "cell_type": "markdown",
   "metadata": {},
   "source": [
    "**Общая информация**\n",
    "\n",
    "**Срок сдачи:** 18 октября 2017, 06:00 <br\\>\n",
    "**Штраф за опоздание:** -2 балла после 06:00 18 октября, -4 балла после 06:00 25 октября, -6 баллов после 06:00 1 ноября\n",
    "\n",
    "При отправлении ДЗ указывайте фамилию в названии файла\n",
    "Присылать ДЗ необходимо в виде ссылки на свой github репозиторий в slack @alkhamush\n",
    "\n",
    "Необходимо в slack создать таск в приватный чат:\n",
    "/todo Фамилия Имя ссылка на гитхаб @alkhamush\n",
    "Пример:\n",
    "/todo Ксения Стройкова https://github.com/stroykova/spheremailru/stroykova_hw1.ipynb @alkhamush\n",
    "Дополнительно нужно просто скинуть ссылку в slack в личный чат\n",
    "\n",
    "Используйте данный Ipython Notebook при оформлении домашнего задания."
   ]
  },
  {
   "cell_type": "markdown",
   "metadata": {},
   "source": [
    "###### Задание 1 (2 баллов)\n",
    "Реализовать KNN в классе MyKNeighborsClassifier (обязательное условие: точность не ниже sklearn реализации)\n",
    "Разберитесь самостоятельно, какая мера расстояния используется в KNeighborsClassifier дефолтно и реализуйте свой алгоритм именно с этой мерой. Самостоятельно разберитесь, как считается score из KNeighborsClassifier и реализуйте аналог в своём классе. Score не должен уступать значению KNN из sklearn\n",
    "\n",
    "###### Задание 2 (2 балла)\n",
    "Добиться скорости работы на fit,  predict и predict_proba сравнимой со sklearn для iris и mnist\n",
    "Для этого используем numpy\n",
    "\n",
    "###### Задание 3 (2 балла)\n",
    "Для iris найдите такой параметр n_neighbors, при котором выдаётся наилучший score. Нарисуйте график зависимости score от n_neighbors\n",
    "\n",
    "###### Задание 4 (3 балла)\n",
    "Добавить algorithm='kd_tree' в реализацию KNN (использовать KDTree из sklearn.neighbors). Значение n_neighbors нужно взять из задания 3. Добиться скорости работы на fit,  predict и predict_proba сравнимой со sklearn для iris и mnist\n",
    "Для этого используем numpy. Score не должен уступать значению KNN из sklearn\n",
    "\n",
    "###### Задание 5 (1 балла)\n",
    "Описать для чего нужны следующие библиотеки/классы/функции (список будет ниже)\n",
    "\n",
    "**Штрафные баллы:**\n",
    "\n",
    "1. Невыполнение PEP8 -1 балл\n",
    "2. Отсутствие фамилии в имени скрипта (скрипт должен называться по аналогии со stroykova_hw1.ipynb) -1 балл\n",
    "3. Все строчки должны быть выполнены. Нужно, чтобы output команды можно было увидеть уже в git'е. В противном случае -1 балл\n",
    "4. При оформлении ДЗ нужно пользоваться данным файлом в качестве шаблона. Не нужно удалять и видоизменять структуру кода и текст. В противном случае -1 балл\n"
   ]
  },
  {
   "cell_type": "code",
   "execution_count": 136,
   "metadata": {},
   "outputs": [
    {
     "name": "stdout",
     "output_type": "stream",
     "text": [
      "The pycodestyle_magic extension is already loaded. To reload it, use:\n",
      "  %reload_ext pycodestyle_magic\n"
     ]
    }
   ],
   "source": [
    "import numpy as np\n",
    "import matplotlib.pyplot as plt\n",
    "\n",
    "import seaborn as sns\n",
    "from sklearn import datasets\n",
    "from sklearn.base import ClassifierMixin\n",
    "from sklearn.datasets import fetch_mldata\n",
    "from sklearn.neighbors.base import NeighborsBase, KNeighborsMixin, SupervisedIntegerMixin \n",
    "from sklearn.model_selection import train_test_split\n",
    "from sklearn.neighbors import KNeighborsClassifier, KDTree\n",
    "from scipy import stats\n",
    "%load_ext pycodestyle_magic"
   ]
  },
  {
   "cell_type": "code",
   "execution_count": 135,
   "metadata": {},
   "outputs": [],
   "source": [
    "%%pycodestyle\n",
    "\n",
    "\n",
    "class MyKNeighborsClassifier(NeighborsBase, KNeighborsMixin,\n",
    "                             SupervisedIntegerMixin, ClassifierMixin):\n",
    "    def __init__(self, n_neighbors, algorithm='brute'):\n",
    "        self.neighbors = n_neighbors\n",
    "        self.algorithm = algorithm\n",
    "\n",
    "    def fit(self, X, y):\n",
    "        self.x_train = np.array(X).astype(float)\n",
    "        self.y_train = np.array(y)\n",
    "        self.y_label = np.unique(y)\n",
    "        self.n_classes = np.shape(self.y_label)[0]\n",
    "        self.y_dist = (self.x_train ** 2).sum(axis=1)\n",
    "        if self.algorithm == 'kd_tree':\n",
    "            self.tree = KDTree(self.x_train, leaf_size=60)\n",
    "\n",
    "    def predict(self, X):\n",
    "        if self.algorithm == 'brute':\n",
    "            return self.predict_brute(X)\n",
    "        elif self.algorithm == 'kd_tree':\n",
    "            return self.predict_kdtree(X)\n",
    "\n",
    "    def predict_proba(self, X):\n",
    "        if self.algorithm == 'brute':\n",
    "            return self.predict_proba_brute(X)\n",
    "        elif self.algorithm == 'kd_tree':\n",
    "            return self.predict_proba_kdtree(X)\n",
    "\n",
    "    def predict_kdtree(self, X):\n",
    "        X = X.astype(float)\n",
    "        dist, ind = self.tree.query(X, k=self.neighbors)\n",
    "        predict = self.y_train[ind].T\n",
    "        return stats.mode(predict)[0].reshape(-1)\n",
    "\n",
    "    def predict_brute(self, X):\n",
    "        distance = self.distance(X)\n",
    "        predict = self.y_train[np.argsort(distance)[:, :self.neighbors]]\n",
    "        return stats.mode(predict.T)[0].reshape(-1)\n",
    "\n",
    "    def predict_proba_kdtree(self, X):\n",
    "        X = X.astype(float)\n",
    "        dist, k_pred = self.tree.query(X, k=self.neighbors)\n",
    "        predict = np.zeros((np.shape(X)[0], np.shape(self.y_label)[0]))\n",
    "        for i in range(np.shape(k_pred)[0]):\n",
    "            for j in k_pred[i]:\n",
    "                predict[i][int(self.y_train[j])] += 1\n",
    "        return predict / self.neighbors\n",
    "\n",
    "    def predict_proba_brute(self, X):\n",
    "        distance = self.distance(X)\n",
    "        k_pred = np.argsort(distance)[:, :self.neighbors]\n",
    "        predict = np.zeros((np.shape(X)[0], np.shape(self.y_label)[0]))\n",
    "        for i in range(np.shape(k_pred)[0]):\n",
    "            for j in k_pred[i]:\n",
    "                predict[i][int(self.y_train[j])] += 1\n",
    "        return predict / self.neighbors\n",
    "\n",
    "    def distance(self, X):\n",
    "        X = X.astype(float)\n",
    "        x_dist = (X ** 2).sum(axis=1)\n",
    "        xy_dist = X.dot(self.x_train.T)\n",
    "        dist = -2 * xy_dist + self.y_dist + x_dist.reshape(-1, 1)\n",
    "        return np.sqrt(dist)\n",
    "\n",
    "    def score(self, X, y):\n",
    "        y_pred = self.predict(X)\n",
    "        return (y_pred == y).sum() / len(y)"
   ]
  },
  {
   "cell_type": "markdown",
   "metadata": {},
   "source": [
    "**IRIS**"
   ]
  },
  {
   "cell_type": "code",
   "execution_count": 72,
   "metadata": {},
   "outputs": [],
   "source": [
    "iris = datasets.load_iris()"
   ]
  },
  {
   "cell_type": "code",
   "execution_count": 73,
   "metadata": {},
   "outputs": [],
   "source": [
    "X_train, X_test, y_train, y_test = train_test_split(iris.data, iris.target, test_size=0.1, stratify=iris.target)"
   ]
  },
  {
   "cell_type": "code",
   "execution_count": 74,
   "metadata": {},
   "outputs": [],
   "source": [
    "clf = KNeighborsClassifier(n_neighbors=2)\n",
    "my_clf = MyKNeighborsClassifier(n_neighbors=2)"
   ]
  },
  {
   "cell_type": "code",
   "execution_count": 75,
   "metadata": {},
   "outputs": [
    {
     "name": "stdout",
     "output_type": "stream",
     "text": [
      "Wall time: 999 µs\n"
     ]
    },
    {
     "data": {
      "text/plain": [
       "KNeighborsClassifier(algorithm='auto', leaf_size=30, metric='minkowski',\n",
       "           metric_params=None, n_jobs=None, n_neighbors=2, p=2,\n",
       "           weights='uniform')"
      ]
     },
     "execution_count": 75,
     "metadata": {},
     "output_type": "execute_result"
    }
   ],
   "source": [
    "%time clf.fit(X_train, y_train)"
   ]
  },
  {
   "cell_type": "code",
   "execution_count": 76,
   "metadata": {},
   "outputs": [
    {
     "name": "stdout",
     "output_type": "stream",
     "text": [
      "Wall time: 0 ns\n"
     ]
    }
   ],
   "source": [
    "%time my_clf.fit(X_train, y_train)"
   ]
  },
  {
   "cell_type": "code",
   "execution_count": 77,
   "metadata": {},
   "outputs": [
    {
     "name": "stdout",
     "output_type": "stream",
     "text": [
      "Wall time: 2 ms\n"
     ]
    },
    {
     "data": {
      "text/plain": [
       "array([1, 2, 1, 1, 0, 2, 2, 0, 0, 0, 1, 1, 2, 2, 0])"
      ]
     },
     "execution_count": 77,
     "metadata": {},
     "output_type": "execute_result"
    }
   ],
   "source": [
    "%time clf.predict(X_test)"
   ]
  },
  {
   "cell_type": "code",
   "execution_count": 78,
   "metadata": {},
   "outputs": [
    {
     "name": "stdout",
     "output_type": "stream",
     "text": [
      "Wall time: 996 µs\n"
     ]
    },
    {
     "data": {
      "text/plain": [
       "array([1, 2, 1, 1, 0, 2, 2, 0, 0, 0, 1, 1, 2, 2, 0])"
      ]
     },
     "execution_count": 78,
     "metadata": {},
     "output_type": "execute_result"
    }
   ],
   "source": [
    "%time my_clf.predict(X_test)"
   ]
  },
  {
   "cell_type": "code",
   "execution_count": 143,
   "metadata": {},
   "outputs": [
    {
     "name": "stdout",
     "output_type": "stream",
     "text": [
      "Wall time: 1min 26s\n"
     ]
    },
    {
     "data": {
      "text/plain": [
       "array([[1., 0., 0., ..., 0., 0., 0.],\n",
       "       [0., 0., 0., ..., 0., 0., 1.],\n",
       "       [0., 0., 0., ..., 0., 0., 0.],\n",
       "       ...,\n",
       "       [0., 0., 0., ..., 0., 0., 1.],\n",
       "       [0., 0., 0., ..., 0., 1., 0.],\n",
       "       [0., 0., 0., ..., 0., 0., 0.]])"
      ]
     },
     "execution_count": 143,
     "metadata": {},
     "output_type": "execute_result"
    }
   ],
   "source": [
    "%time clf.predict_proba(X_test)"
   ]
  },
  {
   "cell_type": "code",
   "execution_count": 80,
   "metadata": {},
   "outputs": [
    {
     "name": "stdout",
     "output_type": "stream",
     "text": [
      "Wall time: 997 µs\n"
     ]
    },
    {
     "data": {
      "text/plain": [
       "array([[0., 1., 0.],\n",
       "       [0., 0., 1.],\n",
       "       [0., 1., 0.],\n",
       "       [0., 1., 0.],\n",
       "       [1., 0., 0.],\n",
       "       [0., 0., 1.],\n",
       "       [0., 0., 1.],\n",
       "       [1., 0., 0.],\n",
       "       [1., 0., 0.],\n",
       "       [1., 0., 0.],\n",
       "       [0., 1., 0.],\n",
       "       [0., 1., 0.],\n",
       "       [0., 0., 1.],\n",
       "       [0., 0., 1.],\n",
       "       [1., 0., 0.]])"
      ]
     },
     "execution_count": 80,
     "metadata": {},
     "output_type": "execute_result"
    }
   ],
   "source": [
    "%time my_clf.predict_proba(X_test)"
   ]
  },
  {
   "cell_type": "code",
   "execution_count": 81,
   "metadata": {},
   "outputs": [
    {
     "data": {
      "text/plain": [
       "1.0"
      ]
     },
     "execution_count": 81,
     "metadata": {},
     "output_type": "execute_result"
    }
   ],
   "source": [
    "clf.score(X_test, y_test)"
   ]
  },
  {
   "cell_type": "code",
   "execution_count": 82,
   "metadata": {},
   "outputs": [
    {
     "data": {
      "text/plain": [
       "1.0"
      ]
     },
     "execution_count": 82,
     "metadata": {},
     "output_type": "execute_result"
    }
   ],
   "source": [
    "my_clf.score(X_test, y_test)"
   ]
  },
  {
   "cell_type": "markdown",
   "metadata": {},
   "source": [
    "Задание 3"
   ]
  },
  {
   "cell_type": "code",
   "execution_count": 84,
   "metadata": {},
   "outputs": [
    {
     "name": "stdout",
     "output_type": "stream",
     "text": [
      "Best neigbours number: 14\n"
     ]
    },
    {
     "data": {
      "image/png": "[encoded data removed]",
      "text/plain": [
       "<Figure size 432x288 with 1 Axes>"
      ]
     },
     "metadata": {
      "needs_background": "light"
     },
     "output_type": "display_data"
    }
   ],
   "source": [
    "n_neighbours = 50\n",
    "num_test = 200\n",
    "scores = []\n",
    "\n",
    "for i in range(1, n_neighbours + 1):\n",
    "    testing_scores = []\n",
    "    for j in range(num_test):\n",
    "        X_train, X_test, y_train, y_test = train_test_split(iris.data, iris.target, \n",
    "                                                            test_size = 0.1, stratify = iris.target)\n",
    "        my_clf = MyKNeighborsClassifier(n_neighbors = i)\n",
    "        my_clf.fit(X_train, y_train)\n",
    "        testing_scores.append(my_clf.score(X_test, y_test))\n",
    "    scores.append(np.mean(testing_scores))\n",
    "\n",
    "best_n = np.argmax(scores) + 1\n",
    "print(\"Best neigbours number: %d\" %best_n)\n",
    "\n",
    "plt.plot(list(range(1, n_neighbours + 1)), scores, 'g--')\n",
    "plt.show()"
   ]
  },
  {
   "cell_type": "markdown",
   "metadata": {},
   "source": [
    "**MNIST**"
   ]
  },
  {
   "cell_type": "code",
   "execution_count": 85,
   "metadata": {},
   "outputs": [
    {
     "name": "stderr",
     "output_type": "stream",
     "text": [
      "C:\\Users\\USER\\Anaconda3\\lib\\site-packages\\sklearn\\utils\\deprecation.py:77: DeprecationWarning: Function fetch_mldata is deprecated; fetch_mldata was deprecated in version 0.20 and will be removed in version 0.22\n",
      "  warnings.warn(msg, category=DeprecationWarning)\n",
      "C:\\Users\\USER\\Anaconda3\\lib\\site-packages\\sklearn\\utils\\deprecation.py:77: DeprecationWarning: Function mldata_filename is deprecated; mldata_filename was deprecated in version 0.20 and will be removed in version 0.22\n",
      "  warnings.warn(msg, category=DeprecationWarning)\n"
     ]
    }
   ],
   "source": [
    "mnist = fetch_mldata('MNIST original')"
   ]
  },
  {
   "cell_type": "code",
   "execution_count": 86,
   "metadata": {},
   "outputs": [],
   "source": [
    "X_train, X_test, y_train, y_test = train_test_split(mnist.data, mnist.target, \n",
    "                                                    test_size=0.01, stratify=mnist.target)"
   ]
  },
  {
   "cell_type": "code",
   "execution_count": 87,
   "metadata": {},
   "outputs": [],
   "source": [
    "clf = KNeighborsClassifier(n_neighbors=2)\n",
    "my_clf = MyKNeighborsClassifier(n_neighbors=2)"
   ]
  },
  {
   "cell_type": "code",
   "execution_count": 88,
   "metadata": {},
   "outputs": [
    {
     "name": "stdout",
     "output_type": "stream",
     "text": [
      "Wall time: 1min\n"
     ]
    },
    {
     "data": {
      "text/plain": [
       "KNeighborsClassifier(algorithm='auto', leaf_size=30, metric='minkowski',\n",
       "           metric_params=None, n_jobs=None, n_neighbors=2, p=2,\n",
       "           weights='uniform')"
      ]
     },
     "execution_count": 88,
     "metadata": {},
     "output_type": "execute_result"
    }
   ],
   "source": [
    "%time clf.fit(X_train, y_train)"
   ]
  },
  {
   "cell_type": "code",
   "execution_count": 89,
   "metadata": {},
   "outputs": [
    {
     "name": "stdout",
     "output_type": "stream",
     "text": [
      "Wall time: 2.26 s\n"
     ]
    }
   ],
   "source": [
    "%time my_clf.fit(X_train, y_train)"
   ]
  },
  {
   "cell_type": "code",
   "execution_count": 91,
   "metadata": {},
   "outputs": [
    {
     "name": "stdout",
     "output_type": "stream",
     "text": [
      "Wall time: 1min 34s\n"
     ]
    },
    {
     "data": {
      "text/plain": [
       "array([9., 7., 1., 1., 0., 7., 7., 0., 2., 1., 0., 4., 1., 2., 5., 6., 1.,\n",
       "       6., 8., 1., 4., 5., 3., 3., 7., 4., 4., 2., 9., 9., 1., 5., 5., 7.,\n",
       "       0., 4., 8., 7., 8., 8., 6., 2., 7., 1., 3., 9., 4., 8., 1., 9., 0.,\n",
       "       1., 0., 8., 3., 8., 6., 4., 6., 5., 1., 3., 0., 9., 1., 0., 2., 2.,\n",
       "       7., 1., 1., 2., 7., 3., 2., 5., 5., 7., 0., 0., 0., 4., 2., 2., 9.,\n",
       "       4., 1., 3., 7., 3., 0., 8., 0., 0., 4., 8., 5., 4., 2., 5., 3., 4.,\n",
       "       8., 4., 5., 0., 6., 7., 6., 0., 4., 1., 9., 0., 1., 9., 9., 7., 3.,\n",
       "       2., 5., 6., 3., 7., 4., 0., 8., 4., 1., 0., 2., 8., 8., 1., 3., 5.,\n",
       "       1., 2., 7., 4., 1., 7., 5., 1., 0., 1., 1., 8., 1., 1., 1., 4., 3.,\n",
       "       4., 9., 4., 4., 6., 0., 6., 0., 8., 3., 3., 0., 2., 8., 1., 4., 9.,\n",
       "       1., 3., 8., 7., 1., 9., 0., 7., 2., 2., 3., 1., 6., 7., 1., 8., 4.,\n",
       "       8., 6., 1., 1., 5., 4., 9., 8., 6., 0., 5., 5., 3., 2., 2., 9., 9.,\n",
       "       6., 1., 4., 0., 5., 2., 0., 4., 7., 1., 0., 6., 2., 7., 4., 3., 1.,\n",
       "       6., 4., 9., 6., 6., 6., 9., 9., 5., 7., 2., 5., 0., 3., 7., 1., 0.,\n",
       "       5., 6., 6., 9., 7., 7., 9., 6., 6., 6., 1., 6., 4., 8., 3., 0., 5.,\n",
       "       0., 6., 6., 8., 8., 7., 6., 9., 1., 7., 5., 2., 5., 3., 4., 5., 5.,\n",
       "       6., 3., 2., 3., 9., 4., 3., 7., 9., 3., 5., 3., 2., 0., 0., 3., 9.,\n",
       "       8., 7., 9., 6., 3., 4., 3., 5., 4., 2., 3., 0., 9., 3., 7., 7., 7.,\n",
       "       7., 9., 0., 9., 0., 1., 9., 4., 5., 5., 9., 7., 8., 7., 3., 3., 7.,\n",
       "       7., 9., 8., 6., 7., 0., 8., 8., 1., 2., 7., 5., 9., 4., 3., 4., 1.,\n",
       "       7., 6., 2., 1., 4., 9., 2., 5., 6., 1., 1., 6., 5., 6., 2., 2., 9.,\n",
       "       2., 5., 9., 3., 5., 7., 3., 9., 1., 9., 2., 1., 4., 4., 3., 4., 0.,\n",
       "       3., 5., 6., 0., 1., 5., 4., 3., 2., 4., 3., 3., 7., 6., 4., 3., 0.,\n",
       "       2., 8., 7., 2., 1., 6., 5., 2., 2., 1., 7., 6., 2., 5., 3., 1., 3.,\n",
       "       2., 9., 2., 6., 3., 2., 2., 2., 4., 7., 3., 8., 4., 7., 4., 7., 6.,\n",
       "       6., 3., 9., 4., 5., 1., 8., 7., 3., 7., 0., 9., 1., 7., 8., 6., 3.,\n",
       "       9., 5., 2., 7., 6., 0., 1., 2., 1., 5., 6., 8., 2., 5., 0., 1., 6.,\n",
       "       5., 3., 0., 9., 2., 5., 3., 3., 0., 7., 9., 9., 9., 8., 1., 1., 5.,\n",
       "       8., 7., 6., 9., 8., 7., 0., 5., 9., 5., 9., 4., 8., 6., 3., 0., 1.,\n",
       "       7., 2., 1., 0., 8., 5., 7., 3., 8., 7., 4., 6., 3., 1., 4., 8., 6.,\n",
       "       5., 9., 6., 8., 9., 8., 9., 0., 9., 5., 1., 5., 6., 2., 8., 2., 4.,\n",
       "       1., 5., 4., 4., 0., 0., 3., 9., 7., 4., 6., 5., 5., 9., 0., 9., 2.,\n",
       "       4., 6., 2., 9., 3., 0., 2., 4., 3., 7., 9., 6., 8., 7., 5., 2., 0.,\n",
       "       6., 5., 2., 6., 7., 0., 8., 7., 0., 2., 2., 1., 2., 9., 9., 1., 6.,\n",
       "       6., 5., 5., 8., 3., 8., 0., 7., 7., 1., 5., 3., 6., 4., 4., 8., 5.,\n",
       "       1., 1., 5., 0., 9., 5., 1., 9., 3., 9., 4., 3., 3., 2., 8., 6., 8.,\n",
       "       0., 0., 2., 0., 6., 6., 3., 1., 3., 3., 9., 4., 8., 6., 2., 2., 1.,\n",
       "       9., 7., 1., 3., 8., 6., 0., 7., 2., 8., 2., 0., 4., 3., 0., 7., 1.,\n",
       "       5., 4., 7., 1., 1., 0., 4., 1., 8., 7., 8., 6., 1., 8., 1., 7., 4.,\n",
       "       1., 4., 2., 4., 3., 0., 0., 3., 4., 2., 7., 8., 9., 0., 4., 6., 7.,\n",
       "       4., 2., 9., 9., 4., 5., 2., 8., 6., 8., 3., 0., 1., 2., 2., 9., 2.,\n",
       "       2., 5., 9.])"
      ]
     },
     "execution_count": 91,
     "metadata": {},
     "output_type": "execute_result"
    }
   ],
   "source": [
    "%time clf.predict(X_test)"
   ]
  },
  {
   "cell_type": "code",
   "execution_count": 90,
   "metadata": {},
   "outputs": [
    {
     "name": "stdout",
     "output_type": "stream",
     "text": [
      "Wall time: 11.2 s\n"
     ]
    },
    {
     "data": {
      "text/plain": [
       "array([9., 7., 1., 1., 0., 7., 7., 0., 2., 1., 0., 4., 1., 2., 5., 6., 1.,\n",
       "       6., 8., 1., 4., 5., 3., 3., 7., 4., 4., 2., 9., 9., 1., 5., 5., 7.,\n",
       "       0., 4., 8., 7., 8., 8., 6., 2., 7., 1., 3., 9., 4., 8., 1., 9., 0.,\n",
       "       1., 0., 8., 3., 8., 6., 4., 6., 5., 1., 3., 0., 9., 1., 0., 2., 2.,\n",
       "       7., 1., 1., 2., 7., 3., 2., 5., 5., 7., 0., 0., 0., 4., 2., 2., 9.,\n",
       "       4., 1., 3., 7., 3., 0., 8., 0., 0., 4., 8., 5., 4., 2., 5., 3., 4.,\n",
       "       8., 4., 5., 0., 6., 7., 6., 0., 4., 1., 9., 0., 1., 9., 9., 7., 3.,\n",
       "       2., 5., 6., 3., 7., 4., 0., 8., 4., 1., 0., 2., 8., 8., 1., 3., 5.,\n",
       "       1., 2., 7., 4., 1., 7., 5., 1., 0., 1., 1., 8., 1., 1., 1., 4., 3.,\n",
       "       4., 9., 4., 4., 6., 0., 6., 0., 8., 3., 3., 0., 2., 8., 1., 4., 9.,\n",
       "       1., 3., 8., 7., 1., 9., 0., 7., 2., 2., 3., 1., 6., 7., 1., 8., 4.,\n",
       "       8., 6., 1., 1., 5., 4., 9., 8., 6., 0., 5., 5., 3., 2., 2., 9., 9.,\n",
       "       6., 1., 4., 0., 5., 2., 0., 4., 7., 1., 0., 6., 2., 7., 4., 3., 1.,\n",
       "       6., 4., 9., 6., 6., 6., 9., 9., 5., 7., 2., 5., 0., 3., 7., 1., 0.,\n",
       "       5., 6., 6., 9., 7., 7., 9., 6., 6., 6., 1., 6., 4., 8., 3., 0., 5.,\n",
       "       0., 6., 6., 8., 8., 7., 6., 9., 1., 7., 5., 2., 5., 3., 4., 5., 5.,\n",
       "       6., 3., 2., 3., 9., 4., 3., 7., 9., 3., 5., 3., 2., 0., 0., 3., 9.,\n",
       "       8., 7., 9., 6., 3., 4., 3., 5., 4., 2., 3., 0., 9., 3., 7., 7., 7.,\n",
       "       7., 9., 0., 9., 0., 1., 9., 4., 5., 5., 9., 7., 8., 7., 3., 3., 7.,\n",
       "       7., 9., 8., 6., 7., 0., 8., 8., 1., 2., 7., 5., 9., 4., 3., 4., 1.,\n",
       "       7., 6., 2., 1., 4., 9., 2., 5., 6., 1., 1., 6., 5., 6., 2., 2., 9.,\n",
       "       2., 5., 9., 3., 5., 7., 3., 9., 1., 9., 2., 1., 4., 4., 3., 4., 0.,\n",
       "       3., 5., 6., 0., 1., 5., 4., 3., 2., 4., 3., 3., 7., 6., 4., 3., 0.,\n",
       "       2., 8., 7., 2., 1., 6., 5., 2., 2., 1., 7., 6., 2., 5., 3., 1., 3.,\n",
       "       2., 9., 2., 6., 3., 2., 2., 2., 4., 7., 3., 8., 4., 7., 4., 7., 6.,\n",
       "       6., 3., 9., 4., 5., 1., 8., 7., 3., 7., 0., 9., 1., 7., 8., 6., 3.,\n",
       "       9., 5., 2., 7., 6., 0., 1., 2., 1., 5., 6., 8., 2., 5., 0., 1., 6.,\n",
       "       5., 3., 0., 9., 2., 5., 3., 3., 0., 7., 9., 9., 9., 8., 1., 1., 5.,\n",
       "       8., 7., 6., 9., 8., 7., 0., 5., 9., 5., 9., 4., 8., 6., 3., 0., 1.,\n",
       "       7., 2., 1., 0., 8., 5., 7., 3., 8., 7., 4., 6., 3., 1., 4., 8., 6.,\n",
       "       5., 9., 6., 8., 9., 8., 9., 0., 9., 5., 1., 5., 6., 2., 8., 2., 4.,\n",
       "       1., 5., 4., 4., 0., 0., 3., 9., 7., 4., 6., 5., 5., 9., 0., 9., 2.,\n",
       "       4., 6., 2., 9., 3., 0., 2., 4., 3., 7., 9., 6., 8., 7., 5., 2., 0.,\n",
       "       6., 5., 2., 6., 7., 0., 8., 7., 0., 2., 2., 1., 2., 9., 9., 1., 6.,\n",
       "       6., 5., 5., 8., 3., 8., 0., 7., 7., 1., 5., 3., 6., 4., 4., 8., 5.,\n",
       "       1., 1., 5., 0., 9., 5., 1., 9., 3., 9., 4., 3., 3., 2., 8., 6., 8.,\n",
       "       0., 0., 2., 0., 6., 6., 3., 1., 3., 3., 9., 4., 8., 6., 2., 2., 1.,\n",
       "       9., 7., 1., 3., 8., 6., 0., 7., 2., 8., 2., 0., 4., 3., 0., 7., 1.,\n",
       "       5., 4., 7., 1., 1., 0., 4., 1., 8., 7., 8., 6., 1., 8., 1., 7., 4.,\n",
       "       1., 4., 2., 4., 3., 0., 0., 3., 4., 2., 7., 8., 9., 0., 4., 6., 7.,\n",
       "       4., 2., 9., 9., 4., 5., 2., 8., 6., 8., 3., 0., 1., 2., 2., 9., 2.,\n",
       "       2., 5., 9.])"
      ]
     },
     "execution_count": 90,
     "metadata": {},
     "output_type": "execute_result"
    }
   ],
   "source": [
    "%time my_clf.predict(X_test)"
   ]
  },
  {
   "cell_type": "code",
   "execution_count": 92,
   "metadata": {},
   "outputs": [
    {
     "name": "stdout",
     "output_type": "stream",
     "text": [
      "Wall time: 1min 36s\n"
     ]
    },
    {
     "data": {
      "text/plain": [
       "array([[0., 0., 0., ..., 0., 0., 1.],\n",
       "       [0., 0., 0., ..., 1., 0., 0.],\n",
       "       [0., 1., 0., ..., 0., 0., 0.],\n",
       "       ...,\n",
       "       [0., 0., 1., ..., 0., 0., 0.],\n",
       "       [0., 0., 0., ..., 0., 0., 0.],\n",
       "       [0., 0., 0., ..., 0., 0., 1.]])"
      ]
     },
     "execution_count": 92,
     "metadata": {},
     "output_type": "execute_result"
    }
   ],
   "source": [
    "%time clf.predict_proba(X_test)"
   ]
  },
  {
   "cell_type": "code",
   "execution_count": 93,
   "metadata": {},
   "outputs": [
    {
     "name": "stdout",
     "output_type": "stream",
     "text": [
      "Wall time: 10.7 s\n"
     ]
    },
    {
     "data": {
      "text/plain": [
       "array([[0., 0., 0., ..., 0., 0., 1.],\n",
       "       [0., 0., 0., ..., 1., 0., 0.],\n",
       "       [0., 1., 0., ..., 0., 0., 0.],\n",
       "       ...,\n",
       "       [0., 0., 1., ..., 0., 0., 0.],\n",
       "       [0., 0., 0., ..., 0., 0., 0.],\n",
       "       [0., 0., 0., ..., 0., 0., 1.]])"
      ]
     },
     "execution_count": 93,
     "metadata": {},
     "output_type": "execute_result"
    }
   ],
   "source": [
    "%time my_clf.predict_proba(X_test)"
   ]
  },
  {
   "cell_type": "code",
   "execution_count": 94,
   "metadata": {},
   "outputs": [
    {
     "data": {
      "text/plain": [
       "0.9785714285714285"
      ]
     },
     "execution_count": 94,
     "metadata": {},
     "output_type": "execute_result"
    }
   ],
   "source": [
    "clf.score(X_test, y_test)"
   ]
  },
  {
   "cell_type": "code",
   "execution_count": 95,
   "metadata": {},
   "outputs": [
    {
     "data": {
      "text/plain": [
       "0.9785714285714285"
      ]
     },
     "execution_count": 95,
     "metadata": {},
     "output_type": "execute_result"
    }
   ],
   "source": [
    "my_clf.score(X_test, y_test)"
   ]
  },
  {
   "cell_type": "markdown",
   "metadata": {},
   "source": [
    "Задание 4"
   ]
  },
  {
   "cell_type": "code",
   "execution_count": 96,
   "metadata": {},
   "outputs": [],
   "source": [
    "clf = KNeighborsClassifier(n_neighbors=2, algorithm='kd_tree')\n",
    "my_clf = MyKNeighborsClassifier(n_neighbors=2, algorithm='kd_tree')"
   ]
  },
  {
   "cell_type": "code",
   "execution_count": 97,
   "metadata": {},
   "outputs": [],
   "source": [
    "X_train, X_test, y_train, y_test = train_test_split(mnist.data, mnist.target, test_size=0.01, stratify=mnist.target)"
   ]
  },
  {
   "cell_type": "code",
   "execution_count": 98,
   "metadata": {},
   "outputs": [
    {
     "name": "stdout",
     "output_type": "stream",
     "text": [
      "Wall time: 54.1 s\n"
     ]
    },
    {
     "data": {
      "text/plain": [
       "KNeighborsClassifier(algorithm='kd_tree', leaf_size=30, metric='minkowski',\n",
       "           metric_params=None, n_jobs=None, n_neighbors=2, p=2,\n",
       "           weights='uniform')"
      ]
     },
     "execution_count": 98,
     "metadata": {},
     "output_type": "execute_result"
    }
   ],
   "source": [
    "%time clf.fit(X_train, y_train)"
   ]
  },
  {
   "cell_type": "code",
   "execution_count": 137,
   "metadata": {},
   "outputs": [
    {
     "name": "stdout",
     "output_type": "stream",
     "text": [
      "Wall time: 54.5 s\n"
     ]
    }
   ],
   "source": [
    "%time my_clf.fit(X_train, y_train)"
   ]
  },
  {
   "cell_type": "code",
   "execution_count": 100,
   "metadata": {},
   "outputs": [
    {
     "name": "stdout",
     "output_type": "stream",
     "text": [
      "Wall time: 1min 25s\n"
     ]
    },
    {
     "data": {
      "text/plain": [
       "array([0., 9., 4., 1., 1., 2., 7., 0., 5., 6., 7., 7., 2., 1., 3., 5., 5.,\n",
       "       6., 2., 5., 6., 0., 7., 5., 0., 0., 5., 1., 5., 4., 7., 1., 7., 9.,\n",
       "       2., 8., 1., 2., 5., 6., 6., 0., 6., 3., 0., 1., 7., 3., 8., 1., 9.,\n",
       "       5., 2., 2., 9., 5., 3., 4., 3., 2., 8., 9., 2., 9., 6., 5., 4., 0.,\n",
       "       4., 5., 1., 7., 7., 5., 3., 6., 7., 5., 8., 3., 5., 7., 9., 0., 9.,\n",
       "       1., 3., 1., 4., 4., 2., 4., 2., 2., 9., 0., 4., 0., 2., 3., 2., 1.,\n",
       "       5., 4., 1., 9., 1., 1., 3., 3., 7., 9., 3., 3., 2., 7., 1., 0., 0.,\n",
       "       8., 0., 3., 7., 6., 9., 4., 5., 6., 3., 3., 5., 7., 0., 7., 4., 2.,\n",
       "       5., 8., 7., 6., 4., 4., 6., 9., 9., 4., 8., 4., 5., 9., 0., 8., 6.,\n",
       "       8., 9., 7., 2., 8., 4., 4., 1., 7., 8., 5., 9., 5., 1., 9., 7., 8.,\n",
       "       8., 1., 2., 0., 8., 1., 3., 4., 9., 6., 7., 8., 7., 4., 3., 9., 8.,\n",
       "       2., 0., 2., 9., 0., 6., 5., 9., 8., 3., 8., 3., 7., 8., 0., 8., 1.,\n",
       "       2., 0., 4., 0., 7., 8., 3., 1., 4., 2., 4., 0., 8., 9., 9., 2., 3.,\n",
       "       4., 5., 7., 6., 9., 6., 5., 6., 4., 5., 3., 4., 9., 2., 4., 7., 6.,\n",
       "       8., 0., 6., 9., 9., 4., 0., 2., 8., 5., 8., 1., 9., 3., 4., 7., 3.,\n",
       "       7., 6., 1., 6., 3., 6., 1., 0., 5., 1., 5., 7., 3., 1., 3., 0., 1.,\n",
       "       1., 1., 3., 1., 0., 1., 9., 9., 3., 2., 1., 1., 2., 6., 5., 8., 1.,\n",
       "       2., 6., 2., 7., 1., 3., 5., 1., 2., 2., 6., 9., 1., 9., 9., 6., 8.,\n",
       "       4., 0., 6., 4., 6., 8., 1., 1., 6., 6., 4., 0., 2., 7., 7., 4., 8.,\n",
       "       8., 7., 6., 6., 7., 7., 9., 1., 8., 2., 5., 5., 5., 7., 8., 7., 5.,\n",
       "       6., 7., 7., 7., 1., 2., 6., 6., 5., 5., 8., 8., 3., 3., 2., 4., 1.,\n",
       "       9., 9., 4., 9., 8., 4., 3., 3., 7., 0., 3., 9., 3., 4., 7., 4., 6.,\n",
       "       1., 7., 7., 4., 0., 3., 9., 3., 7., 4., 7., 4., 7., 7., 2., 0., 4.,\n",
       "       6., 3., 1., 0., 6., 8., 8., 3., 9., 1., 7., 7., 2., 2., 0., 2., 9.,\n",
       "       1., 7., 2., 7., 0., 4., 6., 2., 4., 9., 2., 5., 6., 1., 2., 6., 6.,\n",
       "       8., 6., 6., 7., 3., 3., 1., 1., 1., 5., 7., 2., 0., 1., 1., 0., 4.,\n",
       "       2., 1., 3., 3., 5., 4., 5., 7., 0., 1., 5., 0., 1., 2., 0., 5., 4.,\n",
       "       2., 7., 6., 0., 4., 9., 9., 2., 8., 7., 2., 1., 7., 4., 6., 1., 0.,\n",
       "       5., 8., 5., 0., 2., 8., 7., 5., 8., 8., 6., 5., 4., 4., 6., 8., 3.,\n",
       "       8., 8., 2., 4., 9., 0., 6., 1., 7., 0., 1., 9., 8., 8., 9., 8., 9.,\n",
       "       6., 5., 5., 0., 5., 5., 9., 0., 9., 2., 5., 3., 1., 7., 3., 1., 6.,\n",
       "       8., 8., 8., 3., 0., 8., 4., 4., 0., 0., 4., 3., 8., 9., 3., 5., 6.,\n",
       "       0., 0., 3., 1., 7., 1., 2., 4., 9., 8., 4., 0., 7., 3., 1., 6., 7.,\n",
       "       1., 0., 1., 4., 2., 3., 0., 1., 1., 4., 5., 6., 4., 5., 3., 0., 2.,\n",
       "       6., 3., 0., 3., 5., 4., 6., 1., 8., 9., 6., 9., 3., 0., 5., 9., 1.,\n",
       "       7., 3., 1., 2., 1., 6., 3., 0., 1., 3., 5., 2., 0., 6., 6., 7., 9.,\n",
       "       1., 8., 5., 7., 2., 4., 2., 2., 0., 6., 4., 0., 9., 1., 4., 1., 7.,\n",
       "       4., 0., 8., 7., 0., 5., 4., 3., 6., 3., 2., 5., 2., 8., 0., 8., 0.,\n",
       "       7., 7., 8., 7., 9., 3., 3., 7., 6., 3., 1., 4., 2., 8., 1., 9., 9.,\n",
       "       2., 3., 6., 3., 6., 3., 5., 2., 2., 4., 5., 1., 7., 4., 5., 2., 4.,\n",
       "       2., 9., 0., 8., 6., 3., 0., 8., 4., 9., 0., 8., 9., 2., 2., 9., 5.,\n",
       "       9., 8., 6.])"
      ]
     },
     "execution_count": 100,
     "metadata": {},
     "output_type": "execute_result"
    }
   ],
   "source": [
    "%time clf.predict(X_test)"
   ]
  },
  {
   "cell_type": "code",
   "execution_count": 138,
   "metadata": {},
   "outputs": [
    {
     "name": "stdout",
     "output_type": "stream",
     "text": [
      "Wall time: 1min 13s\n"
     ]
    },
    {
     "data": {
      "text/plain": [
       "array([0., 9., 4., 1., 1., 2., 7., 0., 5., 6., 7., 7., 2., 1., 3., 5., 5.,\n",
       "       6., 2., 5., 6., 0., 7., 5., 0., 0., 5., 1., 5., 4., 7., 1., 7., 9.,\n",
       "       2., 8., 1., 2., 5., 6., 6., 0., 6., 3., 0., 1., 7., 3., 8., 1., 9.,\n",
       "       5., 2., 2., 9., 5., 3., 4., 3., 2., 8., 9., 2., 9., 6., 5., 4., 0.,\n",
       "       4., 5., 1., 7., 7., 5., 3., 6., 7., 5., 8., 3., 5., 7., 9., 0., 9.,\n",
       "       1., 3., 1., 4., 4., 2., 4., 2., 2., 9., 0., 4., 0., 2., 3., 2., 1.,\n",
       "       5., 4., 1., 9., 1., 1., 3., 3., 7., 9., 3., 3., 2., 7., 1., 0., 0.,\n",
       "       8., 0., 3., 7., 6., 9., 4., 5., 6., 3., 3., 5., 7., 0., 7., 4., 2.,\n",
       "       5., 8., 7., 6., 4., 4., 6., 9., 9., 4., 8., 4., 5., 9., 0., 8., 6.,\n",
       "       8., 9., 7., 2., 8., 4., 4., 1., 7., 8., 5., 9., 5., 1., 9., 7., 8.,\n",
       "       8., 1., 2., 0., 8., 1., 3., 4., 9., 6., 7., 8., 7., 4., 3., 9., 8.,\n",
       "       2., 0., 2., 9., 0., 6., 5., 9., 8., 3., 8., 3., 7., 8., 0., 8., 1.,\n",
       "       2., 0., 4., 0., 7., 8., 3., 1., 4., 2., 4., 0., 8., 9., 9., 2., 3.,\n",
       "       4., 5., 7., 6., 9., 6., 5., 6., 4., 5., 3., 4., 9., 2., 4., 7., 6.,\n",
       "       8., 0., 6., 9., 9., 4., 0., 2., 8., 5., 8., 1., 9., 3., 4., 7., 3.,\n",
       "       7., 6., 1., 6., 3., 6., 1., 0., 5., 1., 5., 7., 3., 1., 3., 0., 1.,\n",
       "       1., 1., 3., 1., 0., 1., 9., 9., 3., 2., 1., 1., 2., 6., 5., 8., 1.,\n",
       "       2., 6., 2., 7., 1., 3., 5., 1., 2., 2., 6., 9., 1., 9., 9., 6., 8.,\n",
       "       4., 0., 6., 4., 6., 8., 1., 1., 6., 6., 4., 0., 2., 7., 7., 4., 8.,\n",
       "       8., 7., 6., 6., 7., 7., 9., 1., 8., 2., 5., 5., 5., 7., 8., 7., 5.,\n",
       "       6., 7., 7., 7., 1., 2., 6., 6., 5., 5., 8., 8., 3., 3., 2., 4., 1.,\n",
       "       9., 9., 4., 9., 8., 4., 3., 3., 7., 0., 3., 9., 3., 4., 7., 4., 6.,\n",
       "       1., 7., 7., 4., 0., 3., 9., 3., 7., 4., 7., 4., 7., 7., 2., 0., 4.,\n",
       "       6., 3., 1., 0., 6., 8., 8., 3., 9., 1., 7., 7., 2., 2., 0., 2., 9.,\n",
       "       1., 7., 2., 7., 0., 4., 6., 2., 4., 9., 2., 5., 6., 1., 2., 6., 6.,\n",
       "       8., 6., 6., 7., 3., 3., 1., 1., 1., 5., 7., 2., 0., 1., 1., 0., 4.,\n",
       "       2., 1., 3., 3., 5., 4., 5., 7., 0., 1., 5., 0., 1., 2., 0., 5., 4.,\n",
       "       2., 7., 6., 0., 4., 9., 9., 2., 8., 7., 2., 1., 7., 4., 6., 1., 0.,\n",
       "       5., 8., 5., 0., 2., 8., 7., 5., 8., 8., 6., 5., 4., 4., 6., 8., 3.,\n",
       "       8., 8., 2., 4., 9., 0., 6., 1., 7., 0., 1., 9., 8., 8., 9., 8., 9.,\n",
       "       6., 5., 5., 0., 5., 5., 9., 0., 9., 2., 5., 3., 1., 7., 3., 1., 6.,\n",
       "       8., 8., 8., 3., 0., 8., 4., 4., 0., 0., 4., 3., 8., 9., 3., 5., 6.,\n",
       "       0., 0., 3., 1., 7., 1., 2., 4., 9., 8., 4., 0., 7., 3., 1., 6., 7.,\n",
       "       1., 0., 1., 4., 2., 3., 0., 1., 1., 4., 5., 6., 4., 5., 3., 0., 2.,\n",
       "       6., 3., 0., 3., 5., 4., 6., 1., 8., 9., 6., 9., 3., 0., 5., 9., 1.,\n",
       "       7., 3., 1., 2., 1., 6., 3., 0., 1., 3., 5., 2., 0., 6., 6., 7., 9.,\n",
       "       1., 8., 5., 7., 2., 4., 2., 2., 0., 6., 4., 0., 9., 1., 4., 1., 7.,\n",
       "       4., 0., 8., 7., 0., 5., 4., 3., 6., 3., 2., 5., 2., 8., 0., 8., 0.,\n",
       "       7., 7., 8., 7., 9., 3., 3., 7., 6., 3., 1., 4., 2., 8., 1., 9., 9.,\n",
       "       2., 3., 6., 3., 6., 3., 5., 2., 2., 4., 5., 1., 7., 4., 5., 2., 4.,\n",
       "       2., 9., 0., 8., 6., 3., 0., 8., 4., 9., 0., 8., 9., 2., 2., 9., 5.,\n",
       "       9., 8., 6.])"
      ]
     },
     "execution_count": 138,
     "metadata": {},
     "output_type": "execute_result"
    }
   ],
   "source": [
    "%time my_clf.predict(X_test)"
   ]
  },
  {
   "cell_type": "code",
   "execution_count": 139,
   "metadata": {},
   "outputs": [
    {
     "name": "stdout",
     "output_type": "stream",
     "text": [
      "Wall time: 1min 19s\n"
     ]
    },
    {
     "data": {
      "text/plain": [
       "array([[1., 0., 0., ..., 0., 0., 0.],\n",
       "       [0., 0., 0., ..., 0., 0., 1.],\n",
       "       [0., 0., 0., ..., 0., 0., 0.],\n",
       "       ...,\n",
       "       [0., 0., 0., ..., 0., 0., 1.],\n",
       "       [0., 0., 0., ..., 0., 1., 0.],\n",
       "       [0., 0., 0., ..., 0., 0., 0.]])"
      ]
     },
     "execution_count": 139,
     "metadata": {},
     "output_type": "execute_result"
    }
   ],
   "source": [
    "%time clf.predict_proba(X_test)"
   ]
  },
  {
   "cell_type": "code",
   "execution_count": 140,
   "metadata": {},
   "outputs": [
    {
     "name": "stdout",
     "output_type": "stream",
     "text": [
      "Wall time: 1min 3s\n"
     ]
    },
    {
     "data": {
      "text/plain": [
       "array([[1., 0., 0., ..., 0., 0., 0.],\n",
       "       [0., 0., 0., ..., 0., 0., 1.],\n",
       "       [0., 0., 0., ..., 0., 0., 0.],\n",
       "       ...,\n",
       "       [0., 0., 0., ..., 0., 0., 1.],\n",
       "       [0., 0., 0., ..., 0., 1., 0.],\n",
       "       [0., 0., 0., ..., 0., 0., 0.]])"
      ]
     },
     "execution_count": 140,
     "metadata": {},
     "output_type": "execute_result"
    }
   ],
   "source": [
    "%time my_clf.predict_proba(X_test)"
   ]
  },
  {
   "cell_type": "code",
   "execution_count": 141,
   "metadata": {},
   "outputs": [
    {
     "data": {
      "text/plain": [
       "0.9785714285714285"
      ]
     },
     "execution_count": 141,
     "metadata": {},
     "output_type": "execute_result"
    }
   ],
   "source": [
    "clf.score(X_test, y_test)"
   ]
  },
  {
   "cell_type": "code",
   "execution_count": 142,
   "metadata": {},
   "outputs": [
    {
     "data": {
      "text/plain": [
       "0.9785714285714285"
      ]
     },
     "execution_count": 142,
     "metadata": {},
     "output_type": "execute_result"
    }
   ],
   "source": [
    "my_clf.score(X_test, y_test)"
   ]
  },
  {
   "cell_type": "markdown",
   "metadata": {},
   "source": [
    "Задание 5"
   ]
  },
  {
   "cell_type": "code",
   "execution_count": null,
   "metadata": {},
   "outputs": [],
   "source": [
    "# seaborn - библиотека для визуализации данных на базе matplotlib\n",
    "# matplotlib - библиотека-визуализатор графиков/гистограмм/скаттер-плотов и т.д.\n",
    "# train_test_split - деление данных на тестовую и трейновую часть\n",
    "# Pipelin%load_ext e (from sklearn.pipeline import Pipeline) - инструмент, используемый для последовательного преобразования данных\n",
    "# StandardScaler (from sklearn.preprocessing import StandardScaler) - преобразование данных к стандартному нормальному распределнию(мат. ожидание 0, дисперсия 1)\n",
    "# ClassifierMixin - базовый класс для всех классификаторов sklearn\n",
    "# NeighborsBase - базовый класс для knn\n",
    "# KNeighborsMixin - базовый класс для knn, содержащий поиск соседей\n",
    "# SupervisedIntegerMixin - базовый класс, содержащий метод fit"
   ]
  }
 ],
 "metadata": {
  "kernelspec": {
   "display_name": "Python 3",
   "language": "python",
   "name": "python3"
  },
  "language_info": {
   "codemirror_mode": {
    "name": "ipython",
    "version": 3
   },
   "file_extension": ".py",
   "mimetype": "text/x-python",
   "name": "python",
   "nbconvert_exporter": "python",
   "pygments_lexer": "ipython3",
   "version": "3.6.6"
  }
 },
 "nbformat": 4,
 "nbformat_minor": 2
}
